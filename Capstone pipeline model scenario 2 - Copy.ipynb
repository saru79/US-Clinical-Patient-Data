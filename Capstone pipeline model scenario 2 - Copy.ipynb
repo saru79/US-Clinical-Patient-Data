{
 "metadata": {
  "language_info": {
   "codemirror_mode": {
    "name": "ipython",
    "version": 3
   },
   "file_extension": ".py",
   "mimetype": "text/x-python",
   "name": "python",
   "nbconvert_exporter": "python",
   "pygments_lexer": "ipython3",
   "version": 3
  },
  "orig_nbformat": 2,
  "kernelspec": {
   "name": "python_defaultSpec_1595865927058",
   "display_name": "Python 3.7.6 64-bit (conda)"
  }
 },
 "nbformat": 4,
 "nbformat_minor": 2,
 "cells": [
  {
   "cell_type": "code",
   "execution_count": 1,
   "metadata": {
    "tags": []
   },
   "outputs": [
    {
     "output_type": "stream",
     "name": "stdout",
     "text": "time: 1.74 s\n"
    }
   ],
   "source": [
    "import pandas as pd"
   ]
  },
  {
   "cell_type": "code",
   "execution_count": 2,
   "metadata": {
    "tags": []
   },
   "outputs": [
    {
     "output_type": "stream",
     "name": "stdout",
     "text": "time: 1.89 s\n"
    }
   ],
   "source": [
    "df = pd.read_csv('Capstone_model_2.csv')"
   ]
  },
  {
   "cell_type": "code",
   "execution_count": 3,
   "metadata": {
    "tags": []
   },
   "outputs": [
    {
     "output_type": "execute_result",
     "data": {
      "text/plain": "            race  gender       age  admission_type_id  \\\n0       0.464999       0  0.180299           0.532412   \n1       0.464999       0  0.382066           0.472883   \n2       0.457522       0  0.450212           0.472883   \n3       0.464999       1  0.426756           0.472883   \n4       0.464999       1  0.444502           0.472883   \n...          ...     ...       ...                ...   \n101758  0.457522       1  0.481240           0.472883   \n101759  0.457522       0  0.482700           0.472883   \n101760  0.464999       1  0.481240           0.472883   \n101761  0.464999       0  0.482700           0.460931   \n101762  0.464999       1  0.481240           0.472883   \n\n        discharge_disposition_id  admission_source_id    diag_1    diag_2  \\\n0                       0.473202             0.431944  0.485229  0.288254   \n1                       0.450242             0.493756  0.458419  0.513533   \n2                       0.450242             0.493756  0.310664  0.414807   \n3                       0.450242             0.493756  0.512721  0.513533   \n4                       0.450242             0.493756  0.320982  0.488739   \n...                          ...                  ...       ...       ...   \n101758                  0.498924             0.493756  0.485229  0.393105   \n101759                  0.468709             0.394165  0.471010  0.460311   \n101760                  0.450242             0.493756  0.440711  0.460306   \n101761                  0.498924             0.493756  0.494994  0.447715   \n101762                  0.450242             0.493756  0.468307  0.496171   \n\n          diag_3  max_glu_serum  ...  rosiglitazone   insulin  change  \\\n0       0.301602       0.459514  ...       0.459418  0.436999       0   \n1       0.452887       0.459514  ...       0.459418  0.515376       1   \n2       0.461196       0.459514  ...       0.459418  0.436999       0   \n3       0.427601       0.459514  ...       0.459418  0.515376       1   \n4       0.434835       0.459514  ...       0.459418  0.451068       1   \n...          ...            ...  ...            ...       ...     ...   \n101758  0.491480       0.459514  ...       0.459418  0.527909       1   \n101759  0.464952       0.459514  ...       0.459418  0.451068       0   \n101760  0.504323       0.459514  ...       0.459418  0.527909       1   \n101761  0.445188       0.459514  ...       0.459418  0.515376       1   \n101762  0.464952       0.459514  ...       0.459418  0.436999       0   \n\n        diabetesMed  time_in_hospital  num_medications  number_diagnoses  \\\n0                 1         -1.632460        -3.304858         -2.125874   \n1                 0         -0.271144         0.408817          0.865090   \n2                 0         -0.825587        -0.237590         -0.909684   \n3                 0         -0.825587         0.167145         -0.417314   \n4                 0         -1.632460        -1.082723         -1.310201   \n...             ...               ...              ...               ...   \n101758            0         -0.271144         0.167145          0.865090   \n101759            0          0.485715         0.408817          0.865090   \n101760            0         -1.632460        -0.890313          4.757148   \n101761            0          1.565616         0.738735          0.865090   \n101762            1          0.766108        -2.392744          0.865090   \n\n        num_ovrll_prcdrs  num_prvs_vists  readmitted  \n0              -0.177270       -0.873587           0  \n1               0.733542       -0.873587           1  \n2              -1.431584        1.368394           0  \n3               0.024705       -0.873587           0  \n4               0.328150       -0.873587           0  \n...                  ...             ...         ...  \n101758          0.328150       -0.873587           1  \n101759         -0.429334        0.648937           0  \n101760          0.429416        0.648937           0  \n101761          0.125792        0.648937           0  \n101762         -1.431584       -0.873587           0  \n\n[101763 rows x 26 columns]",
      "text/html": "<div>\n<style scoped>\n    .dataframe tbody tr th:only-of-type {\n        vertical-align: middle;\n    }\n\n    .dataframe tbody tr th {\n        vertical-align: top;\n    }\n\n    .dataframe thead th {\n        text-align: right;\n    }\n</style>\n<table border=\"1\" class=\"dataframe\">\n  <thead>\n    <tr style=\"text-align: right;\">\n      <th></th>\n      <th>race</th>\n      <th>gender</th>\n      <th>age</th>\n      <th>admission_type_id</th>\n      <th>discharge_disposition_id</th>\n      <th>admission_source_id</th>\n      <th>diag_1</th>\n      <th>diag_2</th>\n      <th>diag_3</th>\n      <th>max_glu_serum</th>\n      <th>...</th>\n      <th>rosiglitazone</th>\n      <th>insulin</th>\n      <th>change</th>\n      <th>diabetesMed</th>\n      <th>time_in_hospital</th>\n      <th>num_medications</th>\n      <th>number_diagnoses</th>\n      <th>num_ovrll_prcdrs</th>\n      <th>num_prvs_vists</th>\n      <th>readmitted</th>\n    </tr>\n  </thead>\n  <tbody>\n    <tr>\n      <th>0</th>\n      <td>0.464999</td>\n      <td>0</td>\n      <td>0.180299</td>\n      <td>0.532412</td>\n      <td>0.473202</td>\n      <td>0.431944</td>\n      <td>0.485229</td>\n      <td>0.288254</td>\n      <td>0.301602</td>\n      <td>0.459514</td>\n      <td>...</td>\n      <td>0.459418</td>\n      <td>0.436999</td>\n      <td>0</td>\n      <td>1</td>\n      <td>-1.632460</td>\n      <td>-3.304858</td>\n      <td>-2.125874</td>\n      <td>-0.177270</td>\n      <td>-0.873587</td>\n      <td>0</td>\n    </tr>\n    <tr>\n      <th>1</th>\n      <td>0.464999</td>\n      <td>0</td>\n      <td>0.382066</td>\n      <td>0.472883</td>\n      <td>0.450242</td>\n      <td>0.493756</td>\n      <td>0.458419</td>\n      <td>0.513533</td>\n      <td>0.452887</td>\n      <td>0.459514</td>\n      <td>...</td>\n      <td>0.459418</td>\n      <td>0.515376</td>\n      <td>1</td>\n      <td>0</td>\n      <td>-0.271144</td>\n      <td>0.408817</td>\n      <td>0.865090</td>\n      <td>0.733542</td>\n      <td>-0.873587</td>\n      <td>1</td>\n    </tr>\n    <tr>\n      <th>2</th>\n      <td>0.457522</td>\n      <td>0</td>\n      <td>0.450212</td>\n      <td>0.472883</td>\n      <td>0.450242</td>\n      <td>0.493756</td>\n      <td>0.310664</td>\n      <td>0.414807</td>\n      <td>0.461196</td>\n      <td>0.459514</td>\n      <td>...</td>\n      <td>0.459418</td>\n      <td>0.436999</td>\n      <td>0</td>\n      <td>0</td>\n      <td>-0.825587</td>\n      <td>-0.237590</td>\n      <td>-0.909684</td>\n      <td>-1.431584</td>\n      <td>1.368394</td>\n      <td>0</td>\n    </tr>\n    <tr>\n      <th>3</th>\n      <td>0.464999</td>\n      <td>1</td>\n      <td>0.426756</td>\n      <td>0.472883</td>\n      <td>0.450242</td>\n      <td>0.493756</td>\n      <td>0.512721</td>\n      <td>0.513533</td>\n      <td>0.427601</td>\n      <td>0.459514</td>\n      <td>...</td>\n      <td>0.459418</td>\n      <td>0.515376</td>\n      <td>1</td>\n      <td>0</td>\n      <td>-0.825587</td>\n      <td>0.167145</td>\n      <td>-0.417314</td>\n      <td>0.024705</td>\n      <td>-0.873587</td>\n      <td>0</td>\n    </tr>\n    <tr>\n      <th>4</th>\n      <td>0.464999</td>\n      <td>1</td>\n      <td>0.444502</td>\n      <td>0.472883</td>\n      <td>0.450242</td>\n      <td>0.493756</td>\n      <td>0.320982</td>\n      <td>0.488739</td>\n      <td>0.434835</td>\n      <td>0.459514</td>\n      <td>...</td>\n      <td>0.459418</td>\n      <td>0.451068</td>\n      <td>1</td>\n      <td>0</td>\n      <td>-1.632460</td>\n      <td>-1.082723</td>\n      <td>-1.310201</td>\n      <td>0.328150</td>\n      <td>-0.873587</td>\n      <td>0</td>\n    </tr>\n    <tr>\n      <th>...</th>\n      <td>...</td>\n      <td>...</td>\n      <td>...</td>\n      <td>...</td>\n      <td>...</td>\n      <td>...</td>\n      <td>...</td>\n      <td>...</td>\n      <td>...</td>\n      <td>...</td>\n      <td>...</td>\n      <td>...</td>\n      <td>...</td>\n      <td>...</td>\n      <td>...</td>\n      <td>...</td>\n      <td>...</td>\n      <td>...</td>\n      <td>...</td>\n      <td>...</td>\n      <td>...</td>\n    </tr>\n    <tr>\n      <th>101758</th>\n      <td>0.457522</td>\n      <td>1</td>\n      <td>0.481240</td>\n      <td>0.472883</td>\n      <td>0.498924</td>\n      <td>0.493756</td>\n      <td>0.485229</td>\n      <td>0.393105</td>\n      <td>0.491480</td>\n      <td>0.459514</td>\n      <td>...</td>\n      <td>0.459418</td>\n      <td>0.527909</td>\n      <td>1</td>\n      <td>0</td>\n      <td>-0.271144</td>\n      <td>0.167145</td>\n      <td>0.865090</td>\n      <td>0.328150</td>\n      <td>-0.873587</td>\n      <td>1</td>\n    </tr>\n    <tr>\n      <th>101759</th>\n      <td>0.457522</td>\n      <td>0</td>\n      <td>0.482700</td>\n      <td>0.472883</td>\n      <td>0.468709</td>\n      <td>0.394165</td>\n      <td>0.471010</td>\n      <td>0.460311</td>\n      <td>0.464952</td>\n      <td>0.459514</td>\n      <td>...</td>\n      <td>0.459418</td>\n      <td>0.451068</td>\n      <td>0</td>\n      <td>0</td>\n      <td>0.485715</td>\n      <td>0.408817</td>\n      <td>0.865090</td>\n      <td>-0.429334</td>\n      <td>0.648937</td>\n      <td>0</td>\n    </tr>\n    <tr>\n      <th>101760</th>\n      <td>0.464999</td>\n      <td>1</td>\n      <td>0.481240</td>\n      <td>0.472883</td>\n      <td>0.450242</td>\n      <td>0.493756</td>\n      <td>0.440711</td>\n      <td>0.460306</td>\n      <td>0.504323</td>\n      <td>0.459514</td>\n      <td>...</td>\n      <td>0.459418</td>\n      <td>0.527909</td>\n      <td>1</td>\n      <td>0</td>\n      <td>-1.632460</td>\n      <td>-0.890313</td>\n      <td>4.757148</td>\n      <td>0.429416</td>\n      <td>0.648937</td>\n      <td>0</td>\n    </tr>\n    <tr>\n      <th>101761</th>\n      <td>0.464999</td>\n      <td>0</td>\n      <td>0.482700</td>\n      <td>0.460931</td>\n      <td>0.498924</td>\n      <td>0.493756</td>\n      <td>0.494994</td>\n      <td>0.447715</td>\n      <td>0.445188</td>\n      <td>0.459514</td>\n      <td>...</td>\n      <td>0.459418</td>\n      <td>0.515376</td>\n      <td>1</td>\n      <td>0</td>\n      <td>1.565616</td>\n      <td>0.738735</td>\n      <td>0.865090</td>\n      <td>0.125792</td>\n      <td>0.648937</td>\n      <td>0</td>\n    </tr>\n    <tr>\n      <th>101762</th>\n      <td>0.464999</td>\n      <td>1</td>\n      <td>0.481240</td>\n      <td>0.472883</td>\n      <td>0.450242</td>\n      <td>0.493756</td>\n      <td>0.468307</td>\n      <td>0.496171</td>\n      <td>0.464952</td>\n      <td>0.459514</td>\n      <td>...</td>\n      <td>0.459418</td>\n      <td>0.436999</td>\n      <td>0</td>\n      <td>1</td>\n      <td>0.766108</td>\n      <td>-2.392744</td>\n      <td>0.865090</td>\n      <td>-1.431584</td>\n      <td>-0.873587</td>\n      <td>0</td>\n    </tr>\n  </tbody>\n</table>\n<p>101763 rows × 26 columns</p>\n</div>"
     },
     "metadata": {},
     "execution_count": 3
    },
    {
     "output_type": "stream",
     "name": "stdout",
     "text": "time: 299 ms\n"
    }
   ],
   "source": [
    "df"
   ]
  },
  {
   "cell_type": "code",
   "execution_count": 4,
   "metadata": {
    "tags": []
   },
   "outputs": [
    {
     "output_type": "stream",
     "name": "stdout",
     "text": "time: 29 ms\n"
    }
   ],
   "source": [
    "X = df.drop('readmitted',axis=1)\n",
    "y = df['readmitted']"
   ]
  },
  {
   "cell_type": "code",
   "execution_count": 5,
   "metadata": {
    "tags": []
   },
   "outputs": [
    {
     "output_type": "stream",
     "name": "stdout",
     "text": "time: 3.25 s\n"
    }
   ],
   "source": [
    "from pyforest import *"
   ]
  },
  {
   "cell_type": "code",
   "execution_count": 6,
   "metadata": {
    "tags": []
   },
   "outputs": [
    {
     "output_type": "display_data",
     "data": {
      "text/plain": "<IPython.core.display.Javascript object>",
      "application/javascript": "\n        if (window._pyforest_update_imports_cell) { window._pyforest_update_imports_cell('from sklearn.model_selection import train_test_split'); }\n    "
     },
     "metadata": {}
    },
    {
     "output_type": "stream",
     "name": "stdout",
     "text": "time: 2.52 s\n"
    }
   ],
   "source": [
    "X_train, X_test, y_train, y_test = train_test_split(X,y, test_size=0.3, random_state=96)"
   ]
  },
  {
   "cell_type": "code",
   "execution_count": 7,
   "metadata": {
    "tags": []
   },
   "outputs": [
    {
     "output_type": "stream",
     "name": "stdout",
     "text": "time: 4 ms\n"
    }
   ],
   "source": [
    "import scipy.stats as st"
   ]
  },
  {
   "cell_type": "code",
   "execution_count": 8,
   "metadata": {
    "tags": []
   },
   "outputs": [
    {
     "output_type": "execute_result",
     "data": {
      "text/plain": "array([0.91778603, 0.25023921, 0.82006251, 0.8280639 , 0.68618645,\n       0.66737961, 0.96615346, 0.9999133 , 0.78088498, 0.66406555,\n       0.75953404, 0.78761381, 0.4376827 , 0.9362097 , 0.85021965,\n       0.89659287, 0.4705123 , 0.53579229, 0.37558116, 0.98160125,\n       0.93097086, 0.88489858, 0.63353744, 0.89809475, 0.50560194])"
     },
     "metadata": {},
     "execution_count": 8
    },
    {
     "output_type": "stream",
     "name": "stdout",
     "text": "time: 159 ms\n"
    }
   ],
   "source": [
    "st.ttest_ind(X_train,X)[1]"
   ]
  },
  {
   "cell_type": "code",
   "execution_count": 9,
   "metadata": {
    "tags": []
   },
   "outputs": [
    {
     "output_type": "execute_result",
     "data": {
      "text/plain": "array([0.8574515 , 0.04468548, 0.69121614, 0.7026755 , 0.48198408,\n       0.45441106, 0.9409104 , 0.99984796, 0.62636   , 0.45124564,\n       0.59345267, 0.63776042, 0.18179503, 0.88874573, 0.74117005,\n       0.82096593, 0.21347192, 0.27847334, 0.12155958, 0.96786943,\n       0.87982918, 0.80062354, 0.40469962, 0.8226779 , 0.24461335])"
     },
     "metadata": {},
     "execution_count": 9
    },
    {
     "output_type": "stream",
     "name": "stdout",
     "text": "time: 111 ms\n"
    }
   ],
   "source": [
    "st.ttest_ind(X_test,X)[1]"
   ]
  },
  {
   "cell_type": "code",
   "execution_count": 19,
   "metadata": {
    "tags": []
   },
   "outputs": [
    {
     "output_type": "stream",
     "name": "stdout",
     "text": "time: 999 µs\n"
    }
   ],
   "source": [
    "from sklearn.pipeline import Pipeline"
   ]
  },
  {
   "cell_type": "code",
   "execution_count": 20,
   "metadata": {
    "tags": []
   },
   "outputs": [
    {
     "output_type": "stream",
     "name": "stdout",
     "text": "time: 19 ms\n"
    }
   ],
   "source": [
    "from xgboost.sklearn import XGBClassifier\n",
    "from sklearn.linear_model import LogisticRegression\n",
    "from sklearn.tree import DecisionTreeClassifier\n",
    "from sklearn.ensemble import RandomForestClassifier\n",
    "from sklearn.ensemble import AdaBoostClassifier\n",
    "from sklearn.linear_model import SGDClassifier\n",
    "from sklearn.neighbors import KNeighborsClassifier as KNN\n",
    "from sklearn.naive_bayes import GaussianNB\n",
    "from sklearn.ensemble import ExtraTreesClassifier\n",
    "from sklearn.ensemble import GradientBoostingClassifier\n",
    "from lightgbm import LGBMClassifier\n",
    "from scipy.stats import randint\n",
    "from scipy.stats import randint as sp_randint\n",
    "from scipy.stats import uniform as sp_uniform\n",
    "from sklearn.svm import SVC\n",
    "import hyperopt as hp\n",
    "from hyperopt import fmin, tpe, hp, Trials, STATUS_OK\n",
    "from sklearn.model_selection import cross_val_score\n",
    "\n"
   ]
  },
  {
   "cell_type": "code",
   "execution_count": 21,
   "metadata": {
    "tags": []
   },
   "outputs": [
    {
     "output_type": "display_data",
     "data": {
      "text/plain": "<IPython.core.display.Javascript object>",
      "application/javascript": "\n        if (window._pyforest_update_imports_cell) { window._pyforest_update_imports_cell('import numpy as np\\nfrom sklearn.model_selection import train_test_split'); }\n    "
     },
     "metadata": {}
    },
    {
     "output_type": "display_data",
     "data": {
      "text/plain": "<IPython.core.display.Javascript object>",
      "application/javascript": "\n        if (window._pyforest_update_imports_cell) { window._pyforest_update_imports_cell('import numpy as np\\nfrom sklearn.model_selection import train_test_split'); }\n    "
     },
     "metadata": {}
    },
    {
     "output_type": "display_data",
     "data": {
      "text/plain": "<IPython.core.display.Javascript object>",
      "application/javascript": "\n        if (window._pyforest_update_imports_cell) { window._pyforest_update_imports_cell('import numpy as np\\nfrom sklearn.model_selection import train_test_split'); }\n    "
     },
     "metadata": {}
    },
    {
     "output_type": "display_data",
     "data": {
      "text/plain": "<IPython.core.display.Javascript object>",
      "application/javascript": "\n        if (window._pyforest_update_imports_cell) { window._pyforest_update_imports_cell('import numpy as np\\nfrom sklearn.model_selection import train_test_split'); }\n    "
     },
     "metadata": {}
    },
    {
     "output_type": "display_data",
     "data": {
      "text/plain": "<IPython.core.display.Javascript object>",
      "application/javascript": "\n        if (window._pyforest_update_imports_cell) { window._pyforest_update_imports_cell('import numpy as np\\nfrom sklearn.model_selection import train_test_split'); }\n    "
     },
     "metadata": {}
    },
    {
     "output_type": "display_data",
     "data": {
      "text/plain": "<IPython.core.display.Javascript object>",
      "application/javascript": "\n        if (window._pyforest_update_imports_cell) { window._pyforest_update_imports_cell('import numpy as np\\nfrom sklearn.model_selection import train_test_split'); }\n    "
     },
     "metadata": {}
    },
    {
     "output_type": "display_data",
     "data": {
      "text/plain": "<IPython.core.display.Javascript object>",
      "application/javascript": "\n        if (window._pyforest_update_imports_cell) { window._pyforest_update_imports_cell('import numpy as np\\nfrom sklearn.model_selection import train_test_split'); }\n    "
     },
     "metadata": {}
    },
    {
     "output_type": "display_data",
     "data": {
      "text/plain": "<IPython.core.display.Javascript object>",
      "application/javascript": "\n        if (window._pyforest_update_imports_cell) { window._pyforest_update_imports_cell('import numpy as np\\nfrom sklearn.model_selection import train_test_split'); }\n    "
     },
     "metadata": {}
    },
    {
     "output_type": "display_data",
     "data": {
      "text/plain": "<IPython.core.display.Javascript object>",
      "application/javascript": "\n        if (window._pyforest_update_imports_cell) { window._pyforest_update_imports_cell('import numpy as np\\nfrom sklearn.model_selection import train_test_split'); }\n    "
     },
     "metadata": {}
    },
    {
     "output_type": "display_data",
     "data": {
      "text/plain": "<IPython.core.display.Javascript object>",
      "application/javascript": "\n        if (window._pyforest_update_imports_cell) { window._pyforest_update_imports_cell('import numpy as np\\nfrom sklearn.model_selection import train_test_split'); }\n    "
     },
     "metadata": {}
    },
    {
     "output_type": "display_data",
     "data": {
      "text/plain": "<IPython.core.display.Javascript object>",
      "application/javascript": "\n        if (window._pyforest_update_imports_cell) { window._pyforest_update_imports_cell('import numpy as np\\nfrom sklearn.model_selection import train_test_split'); }\n    "
     },
     "metadata": {}
    },
    {
     "output_type": "display_data",
     "data": {
      "text/plain": "<IPython.core.display.Javascript object>",
      "application/javascript": "\n        if (window._pyforest_update_imports_cell) { window._pyforest_update_imports_cell('import numpy as np\\nfrom sklearn.model_selection import train_test_split'); }\n    "
     },
     "metadata": {}
    },
    {
     "output_type": "stream",
     "name": "stdout",
     "text": "time: 462 ms\n"
    }
   ],
   "source": [
    "# Create a pipeline\n",
    "pipe = Pipeline([(\"classifier\", XGBClassifier())])\n",
    "# Create dictionary with candidate learning algorithms and their hyperparameters\n",
    "r_param = [{\"classifier\": [LogisticRegression()],\n",
    "                 \"classifier__penalty\": ['l2','l1'],\n",
    "                 \"classifier__C\": np.logspace(0, 4, 10)},\n",
    "               {\"classifier\": [LogisticRegression()],\n",
    "                 \"classifier__penalty\": ['l2'],\n",
    "                 \"classifier__C\": np.logspace(0, 4, 10),\n",
    "                 \"classifier__solver\":['newton-cg','saga','sag','liblinear'] ##This solvers don't allow L1 penalty\n",
    "                 },\n",
    "            {\"classifier\": [DecisionTreeClassifier()],\n",
    "             \"classifier__criterion\":['gini','entropy'],\n",
    "                 \"classifier__max_depth\":[5,8,15,25,30,None],\n",
    "                 \"classifier__min_samples_leaf\":[1,2,5,10,15,100],\n",
    "                 \"classifier__max_leaf_nodes\": [2, 5,10]},\n",
    "               {\"classifier\": [RandomForestClassifier()],\n",
    "                 \"classifier__n_estimators\": [10, 100, 1000],\n",
    "                 \"classifier__max_depth\":[5,8,15,25,30,None],\n",
    "                 \"classifier__min_samples_leaf\":[1,2,5,10,15,100],\n",
    "                 \"classifier__max_leaf_nodes\": [2, 5,10]},\n",
    "           {'classifier':[LGBMClassifier()],\n",
    "            'classifier__n_estimators':np.arange(50,250,5),\n",
    "            'classifier__max_depth':np.arange(2,15,5),\n",
    "            'classifier__num_leaves':np.arange(2,60,5)},\n",
    "           {'classifier':[XGBClassifier()],\n",
    "              \"classifier__learning_rate\"    : [0.05, 0.10, 0.15, 0.20, 0.25, 0.30 ] ,\n",
    "            \"classifier__min_child_weight\" : [ 1, 3, 5, 7 ],\n",
    "            \"classifier__gamma\"            : [ 0.0, 0.1, 0.2 , 0.3, 0.4 ],\n",
    "            \"classifier__colsample_bytree\" : [ 0.3, 0.4, 0.5 , 0.7 ]},\n",
    "           #{'classifier':[SGDClassifier()],                                     ##Stocasticated Gradient decent\n",
    "            #\"classifier__C\": [1e-7, 1e-6, 1e-5, 1e-4, 1e-3, 1e-2, 1e-1, 1e0],\n",
    "            #\"classifier__penalty\": ['l2']},\n",
    "           {'classifier':[AdaBoostClassifier()],        ## Adaboost Classifier\n",
    "           \"classifier__n_estimators\": sp_randint(50,250), \n",
    "            'classifier__learning_rate': [(0.97 + x / 100) for x in range(0, 8)],\n",
    "            'classifier__algorithm': ['SAMME', 'SAMME.R']},\n",
    "           {'classifier':[KNN()],\n",
    "            \"classifier__weights\":['uniform','distance'],\n",
    "            'classifier__n_neighbors':np.arange(1,40),\n",
    "            'classifier__leaf_size':np.arange(2,40)},\n",
    "           {'classifier':[SVC()],                        ## SVM Algorithm\n",
    "           'classifier__gamma':np.logspace(-4,2,10000),\n",
    "       'classifier__C':np.logspace(-2,2,10000)},\n",
    "           {\"classifier\":[GradientBoostingClassifier()],\n",
    "            \"classifier__learning_rate\":np.arange(0,0.5,15),\n",
    "            \"classifier__n_estimators\":np.arange(50,250,5),\n",
    "            'classifier__max_depth':np.arange(2,15,5),\n",
    "            \"classifier__min_samples_leaf\":[1,2,5,10,15,100],\n",
    "            \"classifier__max_leaf_nodes\": [2, 5,10]}\n",
    "          ]"
   ]
  },
  {
   "cell_type": "code",
   "execution_count": 22,
   "metadata": {
    "tags": []
   },
   "outputs": [
    {
     "output_type": "stream",
     "name": "stdout",
     "text": "time: 8 ms\n"
    }
   ],
   "source": [
    "from sklearn.model_selection import RandomizedSearchCV\n"
   ]
  },
  {
   "cell_type": "code",
   "execution_count": 23,
   "metadata": {
    "tags": []
   },
   "outputs": [
    {
     "output_type": "stream",
     "name": "stdout",
     "text": "time: 2.01 ms\n"
    }
   ],
   "source": [
    "rsearch = RandomizedSearchCV(pipe, r_param, cv=5, verbose=0,n_jobs=-1,random_state=96)"
   ]
  },
  {
   "cell_type": "code",
   "execution_count": 24,
   "metadata": {
    "tags": []
   },
   "outputs": [],
   "source": [
    "best_model_r = rsearch.fit(X_train,y_train)"
   ]
  },
  {
   "cell_type": "code",
   "execution_count": 13,
   "metadata": {
    "tags": []
   },
   "outputs": [
    {
     "output_type": "stream",
     "name": "stdout",
     "text": "Pipeline(steps=[('classifier',\n                 LGBMClassifier(max_depth=12, n_estimators=170,\n                                num_leaves=22))])\nThe mean accuracy of the model is through randomized search is : 0.6454518654394182\ntime: 619 ms\n"
    }
   ],
   "source": [
    "print(best_model_r.best_estimator_)\n",
    "print(\"The mean accuracy of the model is through randomized search is :\",best_model_r.score(X_test,y_test))"
   ]
  },
  {
   "cell_type": "code",
   "execution_count": 14,
   "metadata": {
    "tags": []
   },
   "outputs": [
    {
     "output_type": "stream",
     "name": "stdout",
     "text": "time: 7 ms\n"
    }
   ],
   "source": [
    "from sklearn.metrics import confusion_matrix,accuracy_score,roc_auc_score,roc_curve,classification_report\n"
   ]
  },
  {
   "cell_type": "code",
   "execution_count": 15,
   "metadata": {
    "tags": []
   },
   "outputs": [
    {
     "output_type": "execute_result",
     "data": {
      "text/plain": "{'classifier': LGBMClassifier(max_depth=12, n_estimators=170, num_leaves=22),\n 'classifier__max_depth': 12,\n 'classifier__n_estimators': 170,\n 'classifier__num_leaves': 22}"
     },
     "metadata": {},
     "execution_count": 15
    },
    {
     "output_type": "stream",
     "name": "stdout",
     "text": "time: 25 ms\n"
    }
   ],
   "source": [
    "best_model_r.best_params_"
   ]
  },
  {
   "cell_type": "code",
   "execution_count": 16,
   "metadata": {
    "tags": []
   },
   "outputs": [
    {
     "output_type": "stream",
     "name": "stdout",
     "text": "Confusion Matrix-Train\n [[28310  9971]\n [13232 19721]]\nAccuracy Score-Train\n 0.6742707134233652\nClassification Report-Train\n               precision    recall  f1-score   support\n\n           0       0.68      0.74      0.71     38281\n           1       0.66      0.60      0.63     32953\n\n    accuracy                           0.67     71234\n   macro avg       0.67      0.67      0.67     71234\nweighted avg       0.67      0.67      0.67     71234\n\n\n\n\nConfusion Matrix-Test\n [[11860  4720]\n [ 6104  7845]]\nAccuracy Score-Test\n 0.6454518654394182\nClassification Report-Test\n               precision    recall  f1-score   support\n\n           0       0.66      0.72      0.69     16580\n           1       0.62      0.56      0.59     13949\n\n    accuracy                           0.65     30529\n   macro avg       0.64      0.64      0.64     30529\nweighted avg       0.64      0.65      0.64     30529\n\ntime: 1min 12s\n"
    }
   ],
   "source": [
    "rfc=LGBMClassifier(max_depth=12, n_estimators=170,\n",
    "                                num_leaves=22,random_state=96)\n",
    "rfc.fit(X_train,y_train)\n",
    "y_train_pred=rfc.predict(X_train)\n",
    "y_train_prob=rfc.predict_proba(X_train)[:,1]\n",
    "\n",
    "y_test_pred=rfc.predict(X_test)\n",
    "y_test_prob=rfc.predict_proba(X_test)[:,1]\n",
    "\n",
    "print('Confusion Matrix-Train\\n',confusion_matrix(y_train,y_train_pred))\n",
    "print('Accuracy Score-Train\\n',accuracy_score(y_train,y_train_pred))\n",
    "print('Classification Report-Train\\n',classification_report(y_train,y_train_pred))\n",
    "\n",
    "print('\\n'*2)\n",
    "print('Confusion Matrix-Test\\n',confusion_matrix(y_test,y_test_pred))\n",
    "print('Accuracy Score-Test\\n',accuracy_score(y_test,y_test_pred))\n",
    "print('Classification Report-Test\\n',classification_report(y_test,y_test_pred))\n",
    "\n"
   ]
  },
  {
   "cell_type": "code",
   "execution_count": 17,
   "metadata": {
    "tags": []
   },
   "outputs": [
    {
     "output_type": "stream",
     "name": "stdout",
     "text": "time: 3 ms\n"
    }
   ],
   "source": [
    "lgbm = LGBMClassifier(max_depth=12, n_estimators=170,\n",
    "                                num_leaves=22,random_state=96)\n",
    "\n",
    "models=[]\n",
    "models.append(('lgbm',lgbm))"
   ]
  },
  {
   "cell_type": "code",
   "execution_count": 21,
   "metadata": {
    "tags": []
   },
   "outputs": [
    {
     "output_type": "stream",
     "name": "stdout",
     "text": "time: 200 ms\n"
    }
   ],
   "source": [
    "from sklearn import model_selection\n",
    "import matplotlib.pyplot as plt\n",
    "import seaborn as sns"
   ]
  },
  {
   "cell_type": "code",
   "execution_count": 23,
   "metadata": {
    "tags": []
   },
   "outputs": [
    {
     "output_type": "stream",
     "name": "stdout",
     "text": "time: 44 ms\n"
    }
   ],
   "source": [
    "def algorithim_boxplot_comparison(X,\n",
    "                                  y,\n",
    "                                  algo_list=[],\n",
    "                                  random_state=96,\n",
    "                                  scoring='accuracy',\n",
    "                                  n_splits=10):\n",
    "    \"\"\"To compare metric of different algorithims\n",
    "       Paramters-\n",
    "       algo_list : a list conataining algorithim models like random forest,\n",
    "                     decision trees etc.\n",
    "       X : dataframe without Target variable\n",
    "       y : dataframe with only Target variable\n",
    "       random_state : The seed of randomness. Default is 3\n",
    "       n_splits : Number of splits used. Default is 3\n",
    "       ( Default changes from organization to organization)\n",
    "       Returns-\n",
    "       mean accuracy and the standard deviation accuracy.\n",
    "       Box Plot of Acuuracy\"\"\"\n",
    "\n",
    "    results = []\n",
    "    names = []\n",
    "    for algo_name, algo_model in algo_list:\n",
    "        kfold = model_selection.KFold(shuffle=True,\n",
    "                                      n_splits=n_splits,\n",
    "                                      random_state=random_state)\n",
    "        cv_results = model_selection.cross_val_score(algo_model,\n",
    "                                                     X,\n",
    "                                                     y,\n",
    "                                                     cv=kfold,\n",
    "                                                     scoring=scoring)\n",
    "        results.append(cv_results)\n",
    "        names.append(algo_name)\n",
    "        msg = \"%s: %s : (%f) %s : (%f) %s : (%f)\" % (\n",
    "            algo_name, 'median', np.median(cv_results), 'bias',\n",
    "            1-np.mean(cv_results), 'variance', cv_results.var(ddof=1))\n",
    "        print(msg)\n",
    "    # boxplot algorithm comparison\n",
    "    fig = plt.figure()\n",
    "    fig.suptitle('Algorithm Comparison')\n",
    "    ax = fig.add_subplot(111)\n",
    "    plt.boxplot(results)\n",
    "    ax.set_xticklabels(names)\n",
    "    plt.show()\n"
   ]
  },
  {
   "cell_type": "code",
   "execution_count": 24,
   "metadata": {
    "tags": []
   },
   "outputs": [],
   "source": [
    "algorithim_boxplot_comparison(X,y,algo_list=models)"
   ]
  },
  {
   "cell_type": "code",
   "execution_count": null,
   "metadata": {},
   "outputs": [],
   "source": []
  }
 ]
}
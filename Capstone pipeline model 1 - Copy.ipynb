{
 "metadata": {
  "language_info": {
   "codemirror_mode": {
    "name": "ipython",
    "version": 3
   },
   "file_extension": ".py",
   "mimetype": "text/x-python",
   "name": "python",
   "nbconvert_exporter": "python",
   "pygments_lexer": "ipython3",
   "version": "3.7.8-final"
  },
  "orig_nbformat": 2,
  "kernelspec": {
   "name": "python3",
   "display_name": "Python 3"
  }
 },
 "nbformat": 4,
 "nbformat_minor": 2,
 "cells": [
  {
   "cell_type": "code",
   "execution_count": 1,
   "metadata": {
    "tags": []
   },
   "outputs": [
    {
     "output_type": "stream",
     "name": "stdout",
     "text": "time: 16.9 s\n"
    }
   ],
   "source": [
    "import pandas as pd\n",
    "import numpy as np"
   ]
  },
  {
   "cell_type": "code",
   "execution_count": 2,
   "metadata": {
    "tags": []
   },
   "outputs": [
    {
     "output_type": "stream",
     "name": "stdout",
     "text": "time: 6.99 s\n"
    }
   ],
   "source": [
    "df = pd.read_csv('Capstone_oversampled.csv')"
   ]
  },
  {
   "cell_type": "code",
   "execution_count": 4,
   "metadata": {
    "tags": []
   },
   "outputs": [
    {
     "output_type": "stream",
     "name": "stdout",
     "text": "time: 111 ms\n"
    }
   ],
   "source": [
    "X = df.drop('readmitted',axis=1)\n",
    "y = df['readmitted']"
   ]
  },
  {
   "cell_type": "markdown",
   "metadata": {
    "tags": []
   },
   "source": [
    "from sklearn.decomposition import PCA\n",
    "pca=PCA(random_state=3)\n",
    "pca.fit(X)\n",
    "pd.DataFrame({'Eigenvalue':pca.explained_variance_,'Proporsion Explained':pca.explained_variance_ratio_,'Cummumlatice Proportion Exaplaine':np.cumsum(pca.explained_variance_ratio_)})"
   ]
  },
  {
   "cell_type": "markdown",
   "metadata": {
    "tags": []
   },
   "source": [
    "pca=PCA(n_components=0.95,random_state=96)\n",
    "X_pc=pca.fit_transform(X)\n",
    "X_pc.shape"
   ]
  },
  {
   "cell_type": "code",
   "execution_count": 6,
   "metadata": {
    "tags": []
   },
   "outputs": [
    {
     "output_type": "stream",
     "name": "stdout",
     "text": "time: 10 s\n"
    }
   ],
   "source": [
    "from pyforest import *"
   ]
  },
  {
   "cell_type": "markdown",
   "metadata": {
    "tags": []
   },
   "source": [
    "X_train,X_test,y_train,y_test = train_test_split(X_pc,y,test_size=0.30,random_state=96)"
   ]
  },
  {
   "cell_type": "code",
   "execution_count": 7,
   "metadata": {
    "tags": []
   },
   "outputs": [
    {
     "output_type": "display_data",
     "data": {
      "text/plain": "<IPython.core.display.Javascript object>",
      "application/javascript": "\n        if (window._pyforest_update_imports_cell) { window._pyforest_update_imports_cell('from sklearn.model_selection import train_test_split'); }\n    "
     },
     "metadata": {}
    },
    {
     "output_type": "stream",
     "name": "stdout",
     "text": "time: 42.5 s\n"
    }
   ],
   "source": [
    "X_train, X_test, y_train, y_test = train_test_split(X,y, test_size=0.3, random_state=96)"
   ]
  },
  {
   "cell_type": "code",
   "execution_count": 9,
   "metadata": {
    "tags": []
   },
   "outputs": [
    {
     "output_type": "stream",
     "name": "stdout",
     "text": "time: 6 ms\n"
    }
   ],
   "source": [
    "import scipy.stats as st"
   ]
  },
  {
   "cell_type": "code",
   "execution_count": 11,
   "metadata": {
    "tags": []
   },
   "outputs": [
    {
     "output_type": "execute_result",
     "data": {
      "text/plain": "array([0.60861642, 0.63535103, 0.97260734, 0.90838605, 0.71287632,\n       0.87071257, 0.79839155, 0.64156096, 0.84003783, 0.36430649,\n       0.70965344, 0.46479894, 0.89857823, 0.85081891, 0.98115089,\n       0.82843596, 0.84452379, 0.8024579 , 0.68127983, 0.72343124,\n       0.97766794, 0.82031886, 0.64490064, 0.68946637, 0.44991251])"
     },
     "metadata": {},
     "execution_count": 11
    },
    {
     "output_type": "stream",
     "name": "stdout",
     "text": "time: 373 ms\n"
    }
   ],
   "source": [
    "st.ttest_ind(X_train,X)[1]"
   ]
  },
  {
   "cell_type": "code",
   "execution_count": 12,
   "metadata": {
    "tags": []
   },
   "outputs": [
    {
     "output_type": "execute_result",
     "data": {
      "text/plain": "array([0.37536906, 0.40754525, 0.9522714 , 0.8401109 , 0.52047598,\n       0.77639898, 0.65462137, 0.41508488, 0.7239128 , 0.11734816,\n       0.51597102, 0.20058426, 0.82365472, 0.7408209 , 0.96700341,\n       0.70314978, 0.73447463, 0.66238657, 0.47306856, 0.53683842,\n       0.96099517, 0.69144533, 0.4212215 , 0.48539057, 0.18672249])"
     },
     "metadata": {},
     "execution_count": 12
    },
    {
     "output_type": "stream",
     "name": "stdout",
     "text": "time: 226 ms\n"
    }
   ],
   "source": [
    "st.ttest_ind(X_test,X)[1]"
   ]
  },
  {
   "cell_type": "code",
   "execution_count": 6,
   "metadata": {
    "tags": []
   },
   "outputs": [
    {
     "output_type": "stream",
     "name": "stdout",
     "text": "time: 45 ms\n"
    }
   ],
   "source": [
    "from sklearn.pipeline import Pipeline"
   ]
  },
  {
   "cell_type": "code",
   "execution_count": 7,
   "metadata": {
    "tags": []
   },
   "outputs": [
    {
     "output_type": "stream",
     "name": "stdout",
     "text": "time: 4.34 s\n"
    }
   ],
   "source": [
    "from xgboost.sklearn import XGBClassifier\n",
    "from sklearn.linear_model import LogisticRegression\n",
    "from sklearn.tree import DecisionTreeClassifier\n",
    "from sklearn.ensemble import RandomForestClassifier\n",
    "from sklearn.ensemble import AdaBoostClassifier\n",
    "from sklearn.linear_model import SGDClassifier\n",
    "from sklearn.neighbors import KNeighborsClassifier as KNN\n",
    "from sklearn.naive_bayes import GaussianNB\n",
    "from sklearn.ensemble import ExtraTreesClassifier\n",
    "from sklearn.ensemble import GradientBoostingClassifier\n",
    "import lightgbm as lgb\n",
    "from scipy.stats import randint\n",
    "from scipy.stats import randint as sp_randint\n",
    "from scipy.stats import uniform as sp_uniform\n",
    "from sklearn.svm import SVC\n"
   ]
  },
  {
   "cell_type": "code",
   "execution_count": 8,
   "metadata": {
    "tags": []
   },
   "outputs": [
    {
     "output_type": "display_data",
     "data": {
      "text/plain": "<IPython.core.display.Javascript object>",
      "application/javascript": "\n        if (window._pyforest_update_imports_cell) { window._pyforest_update_imports_cell('from sklearn.model_selection import train_test_split\\nimport numpy as np'); }\n    "
     },
     "metadata": {}
    },
    {
     "output_type": "display_data",
     "data": {
      "text/plain": "<IPython.core.display.Javascript object>",
      "application/javascript": "\n        if (window._pyforest_update_imports_cell) { window._pyforest_update_imports_cell('from sklearn.model_selection import train_test_split\\nimport numpy as np'); }\n    "
     },
     "metadata": {}
    },
    {
     "output_type": "display_data",
     "data": {
      "text/plain": "<IPython.core.display.Javascript object>",
      "application/javascript": "\n        if (window._pyforest_update_imports_cell) { window._pyforest_update_imports_cell('from sklearn.model_selection import train_test_split\\nimport numpy as np'); }\n    "
     },
     "metadata": {}
    },
    {
     "output_type": "display_data",
     "data": {
      "text/plain": "<IPython.core.display.Javascript object>",
      "application/javascript": "\n        if (window._pyforest_update_imports_cell) { window._pyforest_update_imports_cell('from sklearn.model_selection import train_test_split\\nimport numpy as np'); }\n    "
     },
     "metadata": {}
    },
    {
     "output_type": "display_data",
     "data": {
      "text/plain": "<IPython.core.display.Javascript object>",
      "application/javascript": "\n        if (window._pyforest_update_imports_cell) { window._pyforest_update_imports_cell('from sklearn.model_selection import train_test_split\\nimport numpy as np'); }\n    "
     },
     "metadata": {}
    },
    {
     "output_type": "display_data",
     "data": {
      "text/plain": "<IPython.core.display.Javascript object>",
      "application/javascript": "\n        if (window._pyforest_update_imports_cell) { window._pyforest_update_imports_cell('from sklearn.model_selection import train_test_split\\nimport numpy as np'); }\n    "
     },
     "metadata": {}
    },
    {
     "output_type": "display_data",
     "data": {
      "text/plain": "<IPython.core.display.Javascript object>",
      "application/javascript": "\n        if (window._pyforest_update_imports_cell) { window._pyforest_update_imports_cell('from sklearn.model_selection import train_test_split\\nimport numpy as np'); }\n    "
     },
     "metadata": {}
    },
    {
     "output_type": "display_data",
     "data": {
      "text/plain": "<IPython.core.display.Javascript object>",
      "application/javascript": "\n        if (window._pyforest_update_imports_cell) { window._pyforest_update_imports_cell('from sklearn.model_selection import train_test_split\\nimport numpy as np'); }\n    "
     },
     "metadata": {}
    },
    {
     "output_type": "display_data",
     "data": {
      "text/plain": "<IPython.core.display.Javascript object>",
      "application/javascript": "\n        if (window._pyforest_update_imports_cell) { window._pyforest_update_imports_cell('from sklearn.model_selection import train_test_split\\nimport numpy as np'); }\n    "
     },
     "metadata": {}
    },
    {
     "output_type": "display_data",
     "data": {
      "text/plain": "<IPython.core.display.Javascript object>",
      "application/javascript": "\n        if (window._pyforest_update_imports_cell) { window._pyforest_update_imports_cell('from sklearn.model_selection import train_test_split\\nimport numpy as np'); }\n    "
     },
     "metadata": {}
    },
    {
     "output_type": "display_data",
     "data": {
      "text/plain": "<IPython.core.display.Javascript object>",
      "application/javascript": "\n        if (window._pyforest_update_imports_cell) { window._pyforest_update_imports_cell('from sklearn.model_selection import train_test_split\\nimport numpy as np'); }\n    "
     },
     "metadata": {}
    },
    {
     "output_type": "display_data",
     "data": {
      "text/plain": "<IPython.core.display.Javascript object>",
      "application/javascript": "\n        if (window._pyforest_update_imports_cell) { window._pyforest_update_imports_cell('from sklearn.model_selection import train_test_split\\nimport numpy as np'); }\n    "
     },
     "metadata": {}
    },
    {
     "output_type": "stream",
     "name": "stdout",
     "text": "time: 118 ms\n"
    }
   ],
   "source": [
    "# Create a pipeline\n",
    "pipe = Pipeline([(\"classifier\", XGBClassifier())])\n",
    "# Create dictionary with candidate learning algorithms and their hyperparameters\n",
    "r_param = [{\"classifier\": [LogisticRegression()],\n",
    "                 \"classifier__penalty\": ['l2','l1'],\n",
    "                 \"classifier__C\": np.logspace(0, 4, 10)},\n",
    "               {\"classifier\": [LogisticRegression()],\n",
    "                 \"classifier__penalty\": ['l2'],\n",
    "                 \"classifier__C\": np.logspace(0, 4, 10),\n",
    "                 \"classifier__solver\":['newton-cg','saga','sag','liblinear'] ##This solvers don't allow L1 penalty\n",
    "                 },\n",
    "            {\"classifier\": [DecisionTreeClassifier()],\n",
    "             \"classifier__criterion\":['gini','entropy'],\n",
    "                 \"classifier__max_depth\":[5,8,15,25,30,None],\n",
    "                 \"classifier__min_samples_leaf\":[1,2,5,10,15,100],\n",
    "                 \"classifier__max_leaf_nodes\": [2, 5,10]},\n",
    "               {\"classifier\": [RandomForestClassifier()],\n",
    "                 \"classifier__n_estimators\": [10, 100, 1000],\n",
    "                 \"classifier__max_depth\":[5,8,15,25,30,None],\n",
    "                 \"classifier__min_samples_leaf\":[1,2,5,10,15,100],\n",
    "                 \"classifier__max_leaf_nodes\": [2, 5,10]},\n",
    "           {'classifier':[lgb.LGBMClassifier()],\n",
    "            'classifier__n_estimators':np.arange(50,250,5),\n",
    "            'classifier__max_depth':np.arange(2,15,5),\n",
    "            'classifier__num_leaves':np.arange(2,60,5)},\n",
    "           {'classifier':[XGBClassifier()],\n",
    "              \"classifier__learning_rate\"    : [0.05, 0.10, 0.15, 0.20, 0.25, 0.30 ] ,\n",
    "            \"classifier__min_child_weight\" : [ 1, 3, 5, 7 ],\n",
    "            \"classifier__gamma\"            : [ 0.0, 0.1, 0.2 , 0.3, 0.4 ],\n",
    "            \"classifier__colsample_bytree\" : [ 0.3, 0.4, 0.5 , 0.7 ]},\n",
    "           #{'classifier':[SGDClassifier()],                                     ##Stocasticated Gradient decent\n",
    "            #\"classifier__C\": [1e-7, 1e-6, 1e-5, 1e-4, 1e-3, 1e-2, 1e-1, 1e0],\n",
    "            #\"classifier__penalty\": ['l2']},\n",
    "           {'classifier':[AdaBoostClassifier()],        ## Adaboost Classifier\n",
    "           \"classifier__n_estimators\": sp_randint(50,250), \n",
    "            'classifier__learning_rate': [(0.97 + x / 100) for x in range(0, 8)],\n",
    "            'classifier__algorithm': ['SAMME', 'SAMME.R']},\n",
    "           {'classifier':[KNN()],\n",
    "            \"classifier__weights\":['uniform','distance'],\n",
    "            'classifier__n_neighbors':np.arange(1,40),\n",
    "            'classifier__leaf_size':np.arange(2,40)},\n",
    "           {'classifier':[SVC()],                        ## SVM Algorithm\n",
    "           'classifier__gamma':np.logspace(-4,2,10000),\n",
    "       'classifier__C':np.logspace(-2,2,10000)},\n",
    "           {\"classifier\":[GradientBoostingClassifier()],\n",
    "            \"classifier__learning_rate\":np.arange(0,0.5,15),\n",
    "            \"classifier__n_estimators\":np.arange(50,250,5),\n",
    "            'classifier__max_depth':np.arange(2,15,5),\n",
    "            \"classifier__min_samples_leaf\":[1,2,5,10,15,100],\n",
    "            \"classifier__max_leaf_nodes\": [2, 5,10]}\n",
    "          ]"
   ]
  },
  {
   "cell_type": "code",
   "execution_count": 9,
   "metadata": {
    "tags": []
   },
   "outputs": [
    {
     "output_type": "stream",
     "name": "stdout",
     "text": "time: 5.01 ms\n"
    }
   ],
   "source": [
    "from sklearn.model_selection import RandomizedSearchCV\n"
   ]
  },
  {
   "cell_type": "code",
   "execution_count": 10,
   "metadata": {
    "tags": []
   },
   "outputs": [
    {
     "output_type": "stream",
     "name": "stdout",
     "text": "time: 4 ms\n"
    }
   ],
   "source": [
    "rsearch = RandomizedSearchCV(pipe, r_param, cv=5, verbose=0,n_jobs=-1,random_state=96)"
   ]
  },
  {
   "cell_type": "code",
   "execution_count": 11,
   "metadata": {
    "tags": []
   },
   "outputs": [
    {
     "output_type": "stream",
     "name": "stdout",
     "text": "time: 23min 44s\n"
    }
   ],
   "source": [
    "best_model_r = rsearch.fit(X_train,y_train)"
   ]
  },
  {
   "cell_type": "code",
   "execution_count": 12,
   "metadata": {
    "tags": []
   },
   "outputs": [
    {
     "output_type": "stream",
     "name": "stdout",
     "text": "Pipeline(steps=[('classifier',\n                 XGBClassifier(base_score=0.5, booster='gbtree',\n                               colsample_bylevel=1, colsample_bynode=1,\n                               colsample_bytree=0.3, gamma=0.0, gpu_id=-1,\n                               importance_type='gain',\n                               interaction_constraints='', learning_rate=0.3,\n                               max_delta_step=0, max_depth=6,\n                               min_child_weight=1, missing=nan,\n                               monotone_constraints='()', n_estimators=100,\n                               n_jobs=0, num_parallel_tree=1,\n                               objective='multi:softprob', random_state=0,\n                               reg_alpha=0, reg_lambda=1, scale_pos_weight=None,\n                               subsample=1, tree_method='exact',\n                               validate_parameters=1, verbosity=None))])\nThe mean accuracy of the model is through randomized search is : 0.6380556962025317\ntime: 2.19 s\n"
    }
   ],
   "source": [
    "print(best_model_r.best_estimator_)\n",
    "print(\"The mean accuracy of the model is through randomized search is :\",best_model_r.score(X_test,y_test))"
   ]
  },
  {
   "cell_type": "code",
   "execution_count": 13,
   "metadata": {
    "tags": []
   },
   "outputs": [
    {
     "output_type": "execute_result",
     "data": {
      "text/plain": "{'classifier': XGBClassifier(base_score=None, booster=None, colsample_bylevel=None,\n               colsample_bynode=None, colsample_bytree=0.3, gamma=0.0,\n               gpu_id=None, importance_type='gain', interaction_constraints=None,\n               learning_rate=0.3, max_delta_step=None, max_depth=None,\n               min_child_weight=1, missing=nan, monotone_constraints=None,\n               n_estimators=100, n_jobs=None, num_parallel_tree=None,\n               random_state=None, reg_alpha=None, reg_lambda=None,\n               scale_pos_weight=None, subsample=None, tree_method=None,\n               validate_parameters=None, verbosity=None),\n 'classifier__colsample_bytree': 0.3,\n 'classifier__gamma': 0.0,\n 'classifier__learning_rate': 0.3,\n 'classifier__min_child_weight': 1}"
     },
     "metadata": {},
     "execution_count": 13
    },
    {
     "output_type": "stream",
     "name": "stdout",
     "text": "time: 17.1 ms\n"
    }
   ],
   "source": [
    "best_model_r.best_params_"
   ]
  },
  {
   "cell_type": "code",
   "execution_count": 14,
   "metadata": {
    "tags": []
   },
   "outputs": [
    {
     "output_type": "stream",
     "name": "stdout",
     "text": "time: 5 ms\n"
    }
   ],
   "source": [
    "from sklearn.metrics import confusion_matrix,accuracy_score,roc_auc_score,roc_curve,classification_report\n"
   ]
  },
  {
   "cell_type": "code",
   "execution_count": 15,
   "metadata": {
    "tags": []
   },
   "outputs": [
    {
     "output_type": "stream",
     "name": "stdout",
     "text": "[17:05:41] WARNING: C:\\Users\\Administrator\\workspace\\xgboost-win64_release_1.1.0\\src\\learner.cc:480: \nParameters: { classifier, classifier__colsample_bytree, classifier__gamma, classifier__learning_rate, classifier__min_child_weight } might not be used.\n\n  This may not be accurate due to some parameters are only used in language bindings but\n  passed down to XGBoost core.  Or some parameters are not used but slip through this\n  verification. Please open an issue if you find above cases.\n\n\nConfusion Matrix-Train\n [[32480  5801   145]\n [12955 16962  8439]\n [ 4368  4170 29888]]\nAccuracy Score-Train\n 0.6885806541212416\nClassification Report-Train\n               precision    recall  f1-score   support\n\n           0       0.65      0.85      0.74     38426\n           1       0.63      0.44      0.52     38356\n           2       0.78      0.78      0.78     38426\n\n    accuracy                           0.69    115208\n   macro avg       0.69      0.69      0.68    115208\nweighted avg       0.69      0.69      0.68    115208\n\n\n\n\nConfusion Matrix-Test\n [[13426  2923    86]\n [ 6082  5996  4427]\n [ 1920  2183 12332]]\nAccuracy Score-Test\n 0.6431189873417722\nClassification Report-Test\n               precision    recall  f1-score   support\n\n           0       0.63      0.82      0.71     16435\n           1       0.54      0.36      0.43     16505\n           2       0.73      0.75      0.74     16435\n\n    accuracy                           0.64     49375\n   macro avg       0.63      0.64      0.63     49375\nweighted avg       0.63      0.64      0.63     49375\n\ntime: 3min 39s\n"
    }
   ],
   "source": [
    "XGBC=XGBClassifier(**best_model_r.best_params_,random_state=96)\n",
    "XGBC.fit(X_train,y_train)\n",
    "y_train_pred=XGBC.predict(X_train)\n",
    "y_train_prob=XGBC.predict_proba(X_train)[:,1]\n",
    "\n",
    "y_test_pred=XGBC.predict(X_test)\n",
    "y_test_prob=XGBC.predict_proba(X_test)[:,1]\n",
    "\n",
    "print('Confusion Matrix-Train\\n',confusion_matrix(y_train,y_train_pred))\n",
    "print('Accuracy Score-Train\\n',accuracy_score(y_train,y_train_pred))\n",
    "print('Classification Report-Train\\n',classification_report(y_train,y_train_pred))\n",
    "\n",
    "print('\\n'*2)\n",
    "print('Confusion Matrix-Test\\n',confusion_matrix(y_test,y_test_pred))\n",
    "print('Accuracy Score-Test\\n',accuracy_score(y_test,y_test_pred))\n",
    "print('Classification Report-Test\\n',classification_report(y_test,y_test_pred))\n",
    "\n"
   ]
  },
  {
   "cell_type": "code",
   "execution_count": null,
   "metadata": {},
   "outputs": [],
   "source": []
  }
 ]
}